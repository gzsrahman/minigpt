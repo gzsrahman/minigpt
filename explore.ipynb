{
 "cells": [
  {
   "cell_type": "code",
   "execution_count": 2,
   "metadata": {},
   "outputs": [],
   "source": [
    "import polars as pl\n",
    "\n",
    "df = pl.read_parquet(\"/Users/gazirahman/coursework/qac159/proj/train-00000-of-00001.parquet\")"
   ]
  },
  {
   "cell_type": "code",
   "execution_count": 3,
   "metadata": {},
   "outputs": [
    {
     "data": {
      "text/html": [
       "<div><style>\n",
       ".dataframe > thead > tr,\n",
       ".dataframe > tbody > tr {\n",
       "  text-align: right;\n",
       "  white-space: pre-wrap;\n",
       "}\n",
       "</style>\n",
       "<small>shape: (87_599, 5)</small><table border=\"1\" class=\"dataframe\"><thead><tr><th>id</th><th>title</th><th>context</th><th>question</th><th>answers</th></tr><tr><td>str</td><td>str</td><td>str</td><td>str</td><td>struct[2]</td></tr></thead><tbody><tr><td>&quot;5733be284776f41900661182&quot;</td><td>&quot;University_of_Notre_Dame&quot;</td><td>&quot;Architecturally, the school ha…</td><td>&quot;To whom did the Virgin Mary al…</td><td>{[&quot;Saint Bernadette Soubirous&quot;],[515]}</td></tr><tr><td>&quot;5733be284776f4190066117f&quot;</td><td>&quot;University_of_Notre_Dame&quot;</td><td>&quot;Architecturally, the school ha…</td><td>&quot;What is in front of the Notre …</td><td>{[&quot;a copper statue of Christ&quot;],[188]}</td></tr><tr><td>&quot;5733be284776f41900661180&quot;</td><td>&quot;University_of_Notre_Dame&quot;</td><td>&quot;Architecturally, the school ha…</td><td>&quot;The Basilica of the Sacred hea…</td><td>{[&quot;the Main Building&quot;],[279]}</td></tr><tr><td>&quot;5733be284776f41900661181&quot;</td><td>&quot;University_of_Notre_Dame&quot;</td><td>&quot;Architecturally, the school ha…</td><td>&quot;What is the Grotto at Notre Da…</td><td>{[&quot;a Marian place of prayer and reflection&quot;],[381]}</td></tr><tr><td>&quot;5733be284776f4190066117e&quot;</td><td>&quot;University_of_Notre_Dame&quot;</td><td>&quot;Architecturally, the school ha…</td><td>&quot;What sits on top of the Main B…</td><td>{[&quot;a golden statue of the Virgin Mary&quot;],[92]}</td></tr><tr><td>&hellip;</td><td>&hellip;</td><td>&hellip;</td><td>&hellip;</td><td>&hellip;</td></tr><tr><td>&quot;5735d259012e2f140011a09d&quot;</td><td>&quot;Kathmandu&quot;</td><td>&quot;Kathmandu Metropolitan City (K…</td><td>&quot;In what US state did Kathmandu…</td><td>{[&quot;Oregon&quot;],[229]}</td></tr><tr><td>&quot;5735d259012e2f140011a09e&quot;</td><td>&quot;Kathmandu&quot;</td><td>&quot;Kathmandu Metropolitan City (K…</td><td>&quot;What was Yangon previously kno…</td><td>{[&quot;Rangoon&quot;],[414]}</td></tr><tr><td>&quot;5735d259012e2f140011a09f&quot;</td><td>&quot;Kathmandu&quot;</td><td>&quot;Kathmandu Metropolitan City (K…</td><td>&quot;With what Belorussian city doe…</td><td>{[&quot;Minsk&quot;],[476]}</td></tr><tr><td>&quot;5735d259012e2f140011a0a0&quot;</td><td>&quot;Kathmandu&quot;</td><td>&quot;Kathmandu Metropolitan City (K…</td><td>&quot;In what year did Kathmandu cre…</td><td>{[&quot;1975&quot;],[199]}</td></tr><tr><td>&quot;5735d259012e2f140011a0a1&quot;</td><td>&quot;Kathmandu&quot;</td><td>&quot;Kathmandu Metropolitan City (K…</td><td>&quot;What is KMC an initialism of?&quot;</td><td>{[&quot;Kathmandu Metropolitan City&quot;],[0]}</td></tr></tbody></table></div>"
      ],
      "text/plain": [
       "shape: (87_599, 5)\n",
       "┌───────────────────┬───────────────────┬───────────────────┬───────────────────┬──────────────────┐\n",
       "│ id                ┆ title             ┆ context           ┆ question          ┆ answers          │\n",
       "│ ---               ┆ ---               ┆ ---               ┆ ---               ┆ ---              │\n",
       "│ str               ┆ str               ┆ str               ┆ str               ┆ struct[2]        │\n",
       "╞═══════════════════╪═══════════════════╪═══════════════════╪═══════════════════╪══════════════════╡\n",
       "│ 5733be284776f4190 ┆ University_of_Not ┆ Architecturally,  ┆ To whom did the   ┆ {[\"Saint         │\n",
       "│ 0661182           ┆ re_Dame           ┆ the school ha…    ┆ Virgin Mary al…   ┆ Bernadette       │\n",
       "│                   ┆                   ┆                   ┆                   ┆ Soubirous\"…      │\n",
       "│ 5733be284776f4190 ┆ University_of_Not ┆ Architecturally,  ┆ What is in front  ┆ {[\"a copper      │\n",
       "│ 066117f           ┆ re_Dame           ┆ the school ha…    ┆ of the Notre …    ┆ statue of        │\n",
       "│                   ┆                   ┆                   ┆                   ┆ Christ\"]…        │\n",
       "│ 5733be284776f4190 ┆ University_of_Not ┆ Architecturally,  ┆ The Basilica of   ┆ {[\"the Main Buil │\n",
       "│ 0661180           ┆ re_Dame           ┆ the school ha…    ┆ the Sacred hea…   ┆ ding\"],[279]}    │\n",
       "│ 5733be284776f4190 ┆ University_of_Not ┆ Architecturally,  ┆ What is the       ┆ {[\"a Marian      │\n",
       "│ 0661181           ┆ re_Dame           ┆ the school ha…    ┆ Grotto at Notre   ┆ place of prayer  │\n",
       "│                   ┆                   ┆                   ┆ Da…               ┆ an…              │\n",
       "│ 5733be284776f4190 ┆ University_of_Not ┆ Architecturally,  ┆ What sits on top  ┆ {[\"a golden      │\n",
       "│ 066117e           ┆ re_Dame           ┆ the school ha…    ┆ of the Main B…    ┆ statue of the    │\n",
       "│                   ┆                   ┆                   ┆                   ┆ Virg…            │\n",
       "│ …                 ┆ …                 ┆ …                 ┆ …                 ┆ …                │\n",
       "│ 5735d259012e2f140 ┆ Kathmandu         ┆ Kathmandu         ┆ In what US state  ┆ {[\"Oregon\"],[229 │\n",
       "│ 011a09d           ┆                   ┆ Metropolitan City ┆ did Kathmandu…    ┆ ]}               │\n",
       "│                   ┆                   ┆ (K…               ┆                   ┆                  │\n",
       "│ 5735d259012e2f140 ┆ Kathmandu         ┆ Kathmandu         ┆ What was Yangon   ┆ {[\"Rangoon\"],[41 │\n",
       "│ 011a09e           ┆                   ┆ Metropolitan City ┆ previously kno…   ┆ 4]}              │\n",
       "│                   ┆                   ┆ (K…               ┆                   ┆                  │\n",
       "│ 5735d259012e2f140 ┆ Kathmandu         ┆ Kathmandu         ┆ With what         ┆ {[\"Minsk\"],[476] │\n",
       "│ 011a09f           ┆                   ┆ Metropolitan City ┆ Belorussian city  ┆ }                │\n",
       "│                   ┆                   ┆ (K…               ┆ doe…              ┆                  │\n",
       "│ 5735d259012e2f140 ┆ Kathmandu         ┆ Kathmandu         ┆ In what year did  ┆ {[\"1975\"],[199]} │\n",
       "│ 011a0a0           ┆                   ┆ Metropolitan City ┆ Kathmandu cre…    ┆                  │\n",
       "│                   ┆                   ┆ (K…               ┆                   ┆                  │\n",
       "│ 5735d259012e2f140 ┆ Kathmandu         ┆ Kathmandu         ┆ What is KMC an    ┆ {[\"Kathmandu     │\n",
       "│ 011a0a1           ┆                   ┆ Metropolitan City ┆ initialism of?    ┆ Metropolitan     │\n",
       "│                   ┆                   ┆ (K…               ┆                   ┆ City…            │\n",
       "└───────────────────┴───────────────────┴───────────────────┴───────────────────┴──────────────────┘"
      ]
     },
     "execution_count": 3,
     "metadata": {},
     "output_type": "execute_result"
    }
   ],
   "source": [
    "df"
   ]
  }
 ],
 "metadata": {
  "kernelspec": {
   "display_name": "venv",
   "language": "python",
   "name": "python3"
  },
  "language_info": {
   "codemirror_mode": {
    "name": "ipython",
    "version": 3
   },
   "file_extension": ".py",
   "mimetype": "text/x-python",
   "name": "python",
   "nbconvert_exporter": "python",
   "pygments_lexer": "ipython3",
   "version": "3.12.4"
  }
 },
 "nbformat": 4,
 "nbformat_minor": 2
}
